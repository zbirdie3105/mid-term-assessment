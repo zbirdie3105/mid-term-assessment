{
 "cells": [
  {
   "cell_type": "code",
   "execution_count": 84,
   "metadata": {},
   "outputs": [],
   "source": [
    "import numpy as np\n",
    "import scipy.stats as scs"
   ]
  },
  {
   "cell_type": "code",
   "execution_count": 85,
   "metadata": {},
   "outputs": [],
   "source": [
    "data = np.array([\n",
    "14.76515145, 15.66921114, 20.15497514, 14.25750049, 13.03577315,\n",
    "8.26272148, 19.20985755, 12.04375879, 10.91085244, 11.68537558,\n",
    "15.76500706,  9.10184183, 12.27624773, 12.54001656, 17.38484272,\n",
    "17.57900201, 14.65171242, 15.81325345, 12.16072462,  9.66999714,\n",
    "15.39782075, 14.71051375, 12.87376932, 13.16569868, 13.1352791 ,\n",
    "17.62503595, 15.85801613, 16.08111466, 12.74932095,  8.78455273,\n",
    "15.67603836, 20.85680148, 13.55898338, 16.12441324, 18.89939279,\n",
    "9.74224957, 12.93047653, 15.26948315, 18.85026598,  9.6622572 ,\n",
    "14.69180529,  7.98256903, 11.98738448, 13.09929852, 18.00647745,\n",
    "13.37693129, 11.63440091, 19.55690723, 11.32272672,  9.65382463\n",
    "])"
   ]
  },
  {
   "cell_type": "code",
   "execution_count": 86,
   "metadata": {},
   "outputs": [],
   "source": [
    "h0 = 15\n",
    "sd = data.std(ddof=1)\n",
    "n  = data.size\n",
    "se = sd / (n ** 0.5)\n",
    "x = data.mean()"
   ]
  },
  {
   "cell_type": "code",
   "execution_count": 87,
   "metadata": {},
   "outputs": [
    {
     "data": {
      "text/plain": [
       "-2.1608121753714755"
      ]
     },
     "execution_count": 87,
     "metadata": {},
     "output_type": "execute_result"
    }
   ],
   "source": [
    "z = (x - h0) / se\n",
    "z"
   ]
  },
  {
   "cell_type": "code",
   "execution_count": 89,
   "metadata": {},
   "outputs": [
    {
     "data": {
      "text/plain": [
       "0.015354925590720147"
      ]
     },
     "execution_count": 89,
     "metadata": {},
     "output_type": "execute_result"
    }
   ],
   "source": [
    "p = scs.norm(0, 1).cdf(z)\n",
    "p"
   ]
  },
  {
   "cell_type": "code",
   "execution_count": 90,
   "metadata": {},
   "outputs": [],
   "source": [
    "# 97% ci == 3/2 or 1.5% per tail"
   ]
  },
  {
   "cell_type": "code",
   "execution_count": 91,
   "metadata": {},
   "outputs": [],
   "source": [
    "# this is bigger than 1.5% therefore DO NOT REJECT null hypothesis"
   ]
  },
  {
   "cell_type": "code",
   "execution_count": null,
   "metadata": {},
   "outputs": [],
   "source": []
  },
  {
   "cell_type": "code",
   "execution_count": null,
   "metadata": {},
   "outputs": [],
   "source": []
  },
  {
   "cell_type": "code",
   "execution_count": null,
   "metadata": {},
   "outputs": [],
   "source": []
  }
 ],
 "metadata": {
  "kernelspec": {
   "display_name": "Python 3",
   "language": "python",
   "name": "python3"
  },
  "language_info": {
   "codemirror_mode": {
    "name": "ipython",
    "version": 3
   },
   "file_extension": ".py",
   "mimetype": "text/x-python",
   "name": "python",
   "nbconvert_exporter": "python",
   "pygments_lexer": "ipython3",
   "version": "3.7.3"
  }
 },
 "nbformat": 4,
 "nbformat_minor": 2
}
