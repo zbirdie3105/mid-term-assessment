{
 "cells": [
  {
   "cell_type": "code",
   "execution_count": 50,
   "metadata": {},
   "outputs": [
    {
     "data": {
      "text/plain": [
       "(0.9396782841823056, 0.038461538461538464, 0.047619047619047616)"
      ]
     },
     "execution_count": 50,
     "metadata": {},
     "output_type": "execute_result"
    }
   ],
   "source": [
    "TP = 2\n",
    "TN = 1400\n",
    "FP = 50\n",
    "FN = 40\n",
    "\n",
    "accuracy = (TN + TP) / (TN + TP + FN + FP)\n",
    "precison = TP / (TP + FP)\n",
    "recall = TP / (TP + FN)\n",
    "\n",
    "accuracy, precison, recall"
   ]
  },
  {
   "cell_type": "code",
   "execution_count": null,
   "metadata": {},
   "outputs": [],
   "source": []
  }
 ],
 "metadata": {
  "kernelspec": {
   "display_name": "Python 3",
   "language": "python",
   "name": "python3"
  },
  "language_info": {
   "codemirror_mode": {
    "name": "ipython",
    "version": 3
   },
   "file_extension": ".py",
   "mimetype": "text/x-python",
   "name": "python",
   "nbconvert_exporter": "python",
   "pygments_lexer": "ipython3",
   "version": "3.7.3"
  }
 },
 "nbformat": 4,
 "nbformat_minor": 2
}
